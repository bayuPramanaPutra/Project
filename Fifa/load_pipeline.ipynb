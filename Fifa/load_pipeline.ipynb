{
 "cells": [
  {
   "cell_type": "code",
   "execution_count": 1,
   "metadata": {},
   "outputs": [],
   "source": [
    "import pickle\n",
    "\n",
    "with open('final_pipe.pkl', 'rb') as model_best:\n",
    "    model = pickle.load(model_best)"
   ]
  },
  {
   "cell_type": "code",
   "execution_count": 15,
   "metadata": {},
   "outputs": [
    {
     "data": {
      "text/html": [
       "<div>\n",
       "<style scoped>\n",
       "    .dataframe tbody tr th:only-of-type {\n",
       "        vertical-align: middle;\n",
       "    }\n",
       "\n",
       "    .dataframe tbody tr th {\n",
       "        vertical-align: top;\n",
       "    }\n",
       "\n",
       "    .dataframe thead th {\n",
       "        text-align: right;\n",
       "    }\n",
       "</style>\n",
       "<table border=\"1\" class=\"dataframe\">\n",
       "  <thead>\n",
       "    <tr style=\"text-align: right;\">\n",
       "      <th></th>\n",
       "      <th>overall</th>\n",
       "      <th>potential</th>\n",
       "      <th>wage_eur</th>\n",
       "      <th>age</th>\n",
       "      <th>height_cm</th>\n",
       "      <th>weight_kg</th>\n",
       "      <th>league_level</th>\n",
       "      <th>club_contract_valid_until</th>\n",
       "      <th>weak_foot</th>\n",
       "      <th>skill_moves</th>\n",
       "      <th>...</th>\n",
       "      <th>goalkeeping_reflexes</th>\n",
       "      <th>position_sum</th>\n",
       "      <th>tags_sum</th>\n",
       "      <th>traits_sum</th>\n",
       "      <th>league_name</th>\n",
       "      <th>club_position</th>\n",
       "      <th>nation_position</th>\n",
       "      <th>preferred_foot</th>\n",
       "      <th>work_rate</th>\n",
       "      <th>body_type</th>\n",
       "    </tr>\n",
       "  </thead>\n",
       "  <tbody>\n",
       "    <tr>\n",
       "      <th>0</th>\n",
       "      <td>75</td>\n",
       "      <td>82</td>\n",
       "      <td>11000.0</td>\n",
       "      <td>22.0</td>\n",
       "      <td>171.0</td>\n",
       "      <td>70.0</td>\n",
       "      <td>1.0</td>\n",
       "      <td>2025.0</td>\n",
       "      <td>3</td>\n",
       "      <td>4</td>\n",
       "      <td>...</td>\n",
       "      <td>9</td>\n",
       "      <td>1</td>\n",
       "      <td>1</td>\n",
       "      <td>4</td>\n",
       "      <td>Holland Eredivisie</td>\n",
       "      <td>LW</td>\n",
       "      <td>SUB</td>\n",
       "      <td>Right</td>\n",
       "      <td>High/Low</td>\n",
       "      <td>Lean (170-185)</td>\n",
       "    </tr>\n",
       "  </tbody>\n",
       "</table>\n",
       "<p>1 rows × 61 columns</p>\n",
       "</div>"
      ],
      "text/plain": [
       "   overall  potential  wage_eur   age  height_cm  weight_kg  league_level  \\\n",
       "0       75         82   11000.0  22.0      171.0       70.0           1.0   \n",
       "\n",
       "   club_contract_valid_until  weak_foot  skill_moves  ...  \\\n",
       "0                     2025.0          3            4  ...   \n",
       "\n",
       "   goalkeeping_reflexes  position_sum  tags_sum  traits_sum  \\\n",
       "0                     9             1         1           4   \n",
       "\n",
       "          league_name  club_position  nation_position  preferred_foot  \\\n",
       "0  Holland Eredivisie             LW              SUB           Right   \n",
       "\n",
       "   work_rate       body_type  \n",
       "0   High/Low  Lean (170-185)  \n",
       "\n",
       "[1 rows x 61 columns]"
      ]
     },
     "execution_count": 15,
     "metadata": {},
     "output_type": "execute_result"
    }
   ],
   "source": [
    "import pandas as pd\n",
    "\n",
    "cols = ['overall', 'potential', 'wage_eur', 'age', 'height_cm', 'weight_kg',\n",
    "       'league_level', 'club_contract_valid_until', 'weak_foot', 'skill_moves',\n",
    "       'international_reputation', 'release_clause_eur', 'pace', 'shooting',\n",
    "       'passing', 'dribbling', 'defending', 'physic', 'attacking_crossing',\n",
    "       'attacking_finishing', 'attacking_heading_accuracy',\n",
    "       'attacking_short_passing', 'attacking_volleys', 'skill_dribbling',\n",
    "       'skill_curve', 'skill_fk_accuracy', 'skill_long_passing',\n",
    "       'skill_ball_control', 'movement_acceleration', 'movement_sprint_speed',\n",
    "       'movement_agility', 'movement_reactions', 'movement_balance',\n",
    "       'power_shot_power', 'power_jumping', 'power_stamina', 'power_strength',\n",
    "       'power_long_shots', 'mentality_aggression', 'mentality_interceptions',\n",
    "       'mentality_positioning', 'mentality_vision', 'mentality_penalties',\n",
    "       'mentality_composure', 'defending_marking_awareness',\n",
    "       'defending_standing_tackle', 'defending_sliding_tackle',\n",
    "       'goalkeeping_diving', 'goalkeeping_handling', 'goalkeeping_kicking',\n",
    "       'goalkeeping_positioning', 'goalkeeping_reflexes', 'position_sum',\n",
    "       'tags_sum', 'traits_sum', 'league_name', 'club_position',\n",
    "       'nation_position', 'preferred_foot', 'work_rate', 'body_type']\n",
    "\n",
    "input_data = [75,82,11000.0,22.0,171.0,70.0,1.0,2025.0,3,4,1,19600000.0,82.0,72.0,68.0,79.0,35.0,54.0,69,72,44,68,76,79,74,\n",
    "            62,62,76,84,80,92,69,89,73,84,78,42,73,44,35,72,69,65,73,32,36,34,13,11,10,10,9,1,1,4,'Holland Eredivisie',\n",
    "            'LW','SUB','Right','High/Low','Lean (170-185)']\n",
    "\n",
    "new_data = pd.DataFrame([input_data], columns=cols)\n",
    "\n",
    "new_data"
   ]
  },
  {
   "cell_type": "code",
   "execution_count": 16,
   "metadata": {},
   "outputs": [
    {
     "data": {
      "text/plain": [
       "array([10658318.16144881])"
      ]
     },
     "execution_count": 16,
     "metadata": {},
     "output_type": "execute_result"
    }
   ],
   "source": [
    "model.predict(new_data)"
   ]
  }
 ],
 "metadata": {
  "interpreter": {
   "hash": "503d2a957697d49b6269cdcf862fc7ca93b2ade98a0e460657da245a6bee1f25"
  },
  "kernelspec": {
   "display_name": "Python 3.10.0 64-bit",
   "language": "python",
   "name": "python3"
  },
  "language_info": {
   "codemirror_mode": {
    "name": "ipython",
    "version": 3
   },
   "file_extension": ".py",
   "mimetype": "text/x-python",
   "name": "python",
   "nbconvert_exporter": "python",
   "pygments_lexer": "ipython3",
   "version": "3.10.0"
  },
  "orig_nbformat": 4
 },
 "nbformat": 4,
 "nbformat_minor": 2
}
